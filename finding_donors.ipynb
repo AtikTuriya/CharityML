{
 "cells": [
  {
   "cell_type": "markdown",
   "metadata": {},
   "source": [
    "## Supervised Learning\n",
    "## Project: Finding Donors for *CharityML*"
   ]
  },
  {
   "cell_type": "markdown",
   "metadata": {},
   "source": [
    "In this notebook, some template code has already been provided for you, and it will be your job to implement the additional functionality necessary to successfully complete this project. Sections that begin with **'Implementation'** in the header indicate that the following block of code will require additional functionality which you must provide. Instructions will be provided for each section and the specifics of the implementation are marked in the code block with a `'TODO'` statement. Please be sure to read the instructions carefully!\n",
    "\n",
    "In addition to implementing code, there will be questions that you must answer which relate to the project and your implementation. Each section where you will answer a question is preceded by a **'Question X'** header. Carefully read each question and provide thorough answers in the following text boxes that begin with **'Answer:'**. Your project submission will be evaluated based on your answers to each of the questions and the implementation you provide.  \n",
    "\n",
    ">**Note:** Please specify WHICH VERSION OF PYTHON you are using when submitting this notebook. Code and Markdown cells can be executed using the **Shift + Enter** keyboard shortcut. In addition, Markdown cells can be edited by typically double-clicking the cell to enter edit mode."
   ]
  },
  {
   "cell_type": "markdown",
   "metadata": {},
   "source": [
    "## Getting Started\n",
    "\n",
    "In this project, you will employ several supervised algorithms of your choice to accurately model individuals' income using data collected from the 1994 U.S. Census. You will then choose the best candidate algorithm from preliminary results and further optimize this algorithm to best model the data. Your goal with this implementation is to construct a model that accurately predicts whether an individual makes more than $50,000. This sort of task can arise in a non-profit setting, where organizations survive on donations.  Understanding an individual's income can help a non-profit better understand how large of a donation to request, or whether or not they should reach out to begin with.  While it can be difficult to determine an individual's general income bracket directly from public sources, we can (as we will see) infer this value from other publically available features. \n",
    "\n",
    "The dataset for this project originates from the [UCI Machine Learning Repository](https://archive.ics.uci.edu/ml/datasets/Census+Income). The datset was donated by Ron Kohavi and Barry Becker, after being published in the article _\"Scaling Up the Accuracy of Naive-Bayes Classifiers: A Decision-Tree Hybrid\"_. You can find the article by Ron Kohavi [online](https://www.aaai.org/Papers/KDD/1996/KDD96-033.pdf). The data we investigate here consists of small changes to the original dataset, such as removing the `'fnlwgt'` feature and records with missing or ill-formatted entries."
   ]
  },
  {
   "cell_type": "markdown",
   "metadata": {},
   "source": [
    "----\n",
    "## Exploring the Data\n",
    "Run the code cell below to load necessary Python libraries and load the census data. Note that the last column from this dataset, `'income'`, will be our target label (whether an individual makes more than, or at most, $50,000 annually). All other columns are features about each individual in the census database."
   ]
  },
  {
   "cell_type": "code",
   "execution_count": 1,
   "metadata": {},
   "outputs": [
    {
     "data": {
      "text/html": [
       "<div>\n",
       "<style scoped>\n",
       "    .dataframe tbody tr th:only-of-type {\n",
       "        vertical-align: middle;\n",
       "    }\n",
       "\n",
       "    .dataframe tbody tr th {\n",
       "        vertical-align: top;\n",
       "    }\n",
       "\n",
       "    .dataframe thead th {\n",
       "        text-align: right;\n",
       "    }\n",
       "</style>\n",
       "<table border=\"1\" class=\"dataframe\">\n",
       "  <thead>\n",
       "    <tr style=\"text-align: right;\">\n",
       "      <th></th>\n",
       "      <th>age</th>\n",
       "      <th>workclass</th>\n",
       "      <th>education_level</th>\n",
       "      <th>education-num</th>\n",
       "      <th>marital-status</th>\n",
       "      <th>occupation</th>\n",
       "      <th>relationship</th>\n",
       "      <th>race</th>\n",
       "      <th>sex</th>\n",
       "      <th>capital-gain</th>\n",
       "      <th>capital-loss</th>\n",
       "      <th>hours-per-week</th>\n",
       "      <th>native-country</th>\n",
       "      <th>income</th>\n",
       "    </tr>\n",
       "  </thead>\n",
       "  <tbody>\n",
       "    <tr>\n",
       "      <th>0</th>\n",
       "      <td>39</td>\n",
       "      <td>State-gov</td>\n",
       "      <td>Bachelors</td>\n",
       "      <td>13.0</td>\n",
       "      <td>Never-married</td>\n",
       "      <td>Adm-clerical</td>\n",
       "      <td>Not-in-family</td>\n",
       "      <td>White</td>\n",
       "      <td>Male</td>\n",
       "      <td>2174.0</td>\n",
       "      <td>0.0</td>\n",
       "      <td>40.0</td>\n",
       "      <td>United-States</td>\n",
       "      <td>&lt;=50K</td>\n",
       "    </tr>\n",
       "    <tr>\n",
       "      <th>1</th>\n",
       "      <td>50</td>\n",
       "      <td>Self-emp-not-inc</td>\n",
       "      <td>Bachelors</td>\n",
       "      <td>13.0</td>\n",
       "      <td>Married-civ-spouse</td>\n",
       "      <td>Exec-managerial</td>\n",
       "      <td>Husband</td>\n",
       "      <td>White</td>\n",
       "      <td>Male</td>\n",
       "      <td>0.0</td>\n",
       "      <td>0.0</td>\n",
       "      <td>13.0</td>\n",
       "      <td>United-States</td>\n",
       "      <td>&lt;=50K</td>\n",
       "    </tr>\n",
       "    <tr>\n",
       "      <th>2</th>\n",
       "      <td>38</td>\n",
       "      <td>Private</td>\n",
       "      <td>HS-grad</td>\n",
       "      <td>9.0</td>\n",
       "      <td>Divorced</td>\n",
       "      <td>Handlers-cleaners</td>\n",
       "      <td>Not-in-family</td>\n",
       "      <td>White</td>\n",
       "      <td>Male</td>\n",
       "      <td>0.0</td>\n",
       "      <td>0.0</td>\n",
       "      <td>40.0</td>\n",
       "      <td>United-States</td>\n",
       "      <td>&lt;=50K</td>\n",
       "    </tr>\n",
       "    <tr>\n",
       "      <th>3</th>\n",
       "      <td>53</td>\n",
       "      <td>Private</td>\n",
       "      <td>11th</td>\n",
       "      <td>7.0</td>\n",
       "      <td>Married-civ-spouse</td>\n",
       "      <td>Handlers-cleaners</td>\n",
       "      <td>Husband</td>\n",
       "      <td>Black</td>\n",
       "      <td>Male</td>\n",
       "      <td>0.0</td>\n",
       "      <td>0.0</td>\n",
       "      <td>40.0</td>\n",
       "      <td>United-States</td>\n",
       "      <td>&lt;=50K</td>\n",
       "    </tr>\n",
       "    <tr>\n",
       "      <th>4</th>\n",
       "      <td>28</td>\n",
       "      <td>Private</td>\n",
       "      <td>Bachelors</td>\n",
       "      <td>13.0</td>\n",
       "      <td>Married-civ-spouse</td>\n",
       "      <td>Prof-specialty</td>\n",
       "      <td>Wife</td>\n",
       "      <td>Black</td>\n",
       "      <td>Female</td>\n",
       "      <td>0.0</td>\n",
       "      <td>0.0</td>\n",
       "      <td>40.0</td>\n",
       "      <td>Cuba</td>\n",
       "      <td>&lt;=50K</td>\n",
       "    </tr>\n",
       "    <tr>\n",
       "      <th>5</th>\n",
       "      <td>37</td>\n",
       "      <td>Private</td>\n",
       "      <td>Masters</td>\n",
       "      <td>14.0</td>\n",
       "      <td>Married-civ-spouse</td>\n",
       "      <td>Exec-managerial</td>\n",
       "      <td>Wife</td>\n",
       "      <td>White</td>\n",
       "      <td>Female</td>\n",
       "      <td>0.0</td>\n",
       "      <td>0.0</td>\n",
       "      <td>40.0</td>\n",
       "      <td>United-States</td>\n",
       "      <td>&lt;=50K</td>\n",
       "    </tr>\n",
       "    <tr>\n",
       "      <th>6</th>\n",
       "      <td>49</td>\n",
       "      <td>Private</td>\n",
       "      <td>9th</td>\n",
       "      <td>5.0</td>\n",
       "      <td>Married-spouse-absent</td>\n",
       "      <td>Other-service</td>\n",
       "      <td>Not-in-family</td>\n",
       "      <td>Black</td>\n",
       "      <td>Female</td>\n",
       "      <td>0.0</td>\n",
       "      <td>0.0</td>\n",
       "      <td>16.0</td>\n",
       "      <td>Jamaica</td>\n",
       "      <td>&lt;=50K</td>\n",
       "    </tr>\n",
       "    <tr>\n",
       "      <th>7</th>\n",
       "      <td>52</td>\n",
       "      <td>Self-emp-not-inc</td>\n",
       "      <td>HS-grad</td>\n",
       "      <td>9.0</td>\n",
       "      <td>Married-civ-spouse</td>\n",
       "      <td>Exec-managerial</td>\n",
       "      <td>Husband</td>\n",
       "      <td>White</td>\n",
       "      <td>Male</td>\n",
       "      <td>0.0</td>\n",
       "      <td>0.0</td>\n",
       "      <td>45.0</td>\n",
       "      <td>United-States</td>\n",
       "      <td>&gt;50K</td>\n",
       "    </tr>\n",
       "    <tr>\n",
       "      <th>8</th>\n",
       "      <td>31</td>\n",
       "      <td>Private</td>\n",
       "      <td>Masters</td>\n",
       "      <td>14.0</td>\n",
       "      <td>Never-married</td>\n",
       "      <td>Prof-specialty</td>\n",
       "      <td>Not-in-family</td>\n",
       "      <td>White</td>\n",
       "      <td>Female</td>\n",
       "      <td>14084.0</td>\n",
       "      <td>0.0</td>\n",
       "      <td>50.0</td>\n",
       "      <td>United-States</td>\n",
       "      <td>&gt;50K</td>\n",
       "    </tr>\n",
       "    <tr>\n",
       "      <th>9</th>\n",
       "      <td>42</td>\n",
       "      <td>Private</td>\n",
       "      <td>Bachelors</td>\n",
       "      <td>13.0</td>\n",
       "      <td>Married-civ-spouse</td>\n",
       "      <td>Exec-managerial</td>\n",
       "      <td>Husband</td>\n",
       "      <td>White</td>\n",
       "      <td>Male</td>\n",
       "      <td>5178.0</td>\n",
       "      <td>0.0</td>\n",
       "      <td>40.0</td>\n",
       "      <td>United-States</td>\n",
       "      <td>&gt;50K</td>\n",
       "    </tr>\n",
       "  </tbody>\n",
       "</table>\n",
       "</div>"
      ],
      "text/plain": [
       "   age          workclass education_level  education-num  \\\n",
       "0   39          State-gov       Bachelors           13.0   \n",
       "1   50   Self-emp-not-inc       Bachelors           13.0   \n",
       "2   38            Private         HS-grad            9.0   \n",
       "3   53            Private            11th            7.0   \n",
       "4   28            Private       Bachelors           13.0   \n",
       "5   37            Private         Masters           14.0   \n",
       "6   49            Private             9th            5.0   \n",
       "7   52   Self-emp-not-inc         HS-grad            9.0   \n",
       "8   31            Private         Masters           14.0   \n",
       "9   42            Private       Bachelors           13.0   \n",
       "\n",
       "           marital-status          occupation    relationship    race  \\\n",
       "0           Never-married        Adm-clerical   Not-in-family   White   \n",
       "1      Married-civ-spouse     Exec-managerial         Husband   White   \n",
       "2                Divorced   Handlers-cleaners   Not-in-family   White   \n",
       "3      Married-civ-spouse   Handlers-cleaners         Husband   Black   \n",
       "4      Married-civ-spouse      Prof-specialty            Wife   Black   \n",
       "5      Married-civ-spouse     Exec-managerial            Wife   White   \n",
       "6   Married-spouse-absent       Other-service   Not-in-family   Black   \n",
       "7      Married-civ-spouse     Exec-managerial         Husband   White   \n",
       "8           Never-married      Prof-specialty   Not-in-family   White   \n",
       "9      Married-civ-spouse     Exec-managerial         Husband   White   \n",
       "\n",
       "       sex  capital-gain  capital-loss  hours-per-week  native-country income  \n",
       "0     Male        2174.0           0.0            40.0   United-States  <=50K  \n",
       "1     Male           0.0           0.0            13.0   United-States  <=50K  \n",
       "2     Male           0.0           0.0            40.0   United-States  <=50K  \n",
       "3     Male           0.0           0.0            40.0   United-States  <=50K  \n",
       "4   Female           0.0           0.0            40.0            Cuba  <=50K  \n",
       "5   Female           0.0           0.0            40.0   United-States  <=50K  \n",
       "6   Female           0.0           0.0            16.0         Jamaica  <=50K  \n",
       "7     Male           0.0           0.0            45.0   United-States   >50K  \n",
       "8   Female       14084.0           0.0            50.0   United-States   >50K  \n",
       "9     Male        5178.0           0.0            40.0   United-States   >50K  "
      ]
     },
     "metadata": {},
     "output_type": "display_data"
    }
   ],
   "source": [
    "# Import libraries necessary for this project\n",
    "import numpy as np\n",
    "import pandas as pd\n",
    "from time import time\n",
    "from IPython.display import display # Allows the use of display() for DataFrames\n",
    "\n",
    "# Import supplementary visualization code visuals.py\n",
    "import visuals as vs\n",
    "\n",
    "# Pretty display for notebooks\n",
    "%matplotlib inline\n",
    "\n",
    "# Load the Census dataset\n",
    "data = pd.read_csv(\"census.csv\")\n",
    "\n",
    "# Success - Display the first record\n",
    "display(data.head(n=10))"
   ]
  },
  {
   "cell_type": "markdown",
   "metadata": {},
   "source": [
    "### Implementation: Data Exploration\n",
    "A cursory investigation of the dataset will determine how many individuals fit into either group, and will tell us about the percentage of these individuals making more than \\$50,000. In the code cell below, you will need to compute the following:\n",
    "- The total number of records, `'n_records'`\n",
    "- The number of individuals making more than \\$50,000 annually, `'n_greater_50k'`.\n",
    "- The number of individuals making at most \\$50,000 annually, `'n_at_most_50k'`.\n",
    "- The percentage of individuals making more than \\$50,000 annually, `'greater_percent'`.\n",
    "\n",
    "** HINT: ** You may need to look at the table above to understand how the `'income'` entries are formatted. "
   ]
  },
  {
   "cell_type": "code",
   "execution_count": 2,
   "metadata": {},
   "outputs": [
    {
     "name": "stdout",
     "output_type": "stream",
     "text": [
      "Total number of records: 45222\n",
      "Individuals making more than $50,000: 11208\n",
      "Individuals making at most $50,000: 34014\n",
      "Percentage of individuals making more than $50,000: 24.78439697492371%\n"
     ]
    }
   ],
   "source": [
    "# TODO: Total number of records\n",
    "n_records = data.shape[0]\n",
    "\n",
    "# TODO: Number of records where individual's income is more than $50,000\n",
    "n_greater_50k = data[data.income == '>50K'].shape[0]\n",
    "\n",
    "# TODO: Number of records where individual's income is at most $50,000\n",
    "n_at_most_50k = data[data.income == '<=50K'].shape[0]\n",
    "\n",
    "# TODO: Percentage of individuals whose income is more than $50,000\n",
    "greater_percent = n_greater_50k * 100. / n_records\n",
    "\n",
    "# Print the results\n",
    "print(\"Total number of records: {}\".format(n_records))\n",
    "print(\"Individuals making more than $50,000: {}\".format(n_greater_50k))\n",
    "print(\"Individuals making at most $50,000: {}\".format(n_at_most_50k))\n",
    "print(\"Percentage of individuals making more than $50,000: {}%\".format(greater_percent))"
   ]
  },
  {
   "cell_type": "markdown",
   "metadata": {},
   "source": [
    "** Featureset Exploration **\n",
    "\n",
    "* **age**: continuous. \n",
    "* **workclass**: Private, Self-emp-not-inc, Self-emp-inc, Federal-gov, Local-gov, State-gov, Without-pay, Never-worked. \n",
    "* **education**: Bachelors, Some-college, 11th, HS-grad, Prof-school, Assoc-acdm, Assoc-voc, 9th, 7th-8th, 12th, Masters, 1st-4th, 10th, Doctorate, 5th-6th, Preschool. \n",
    "* **education-num**: continuous. \n",
    "* **marital-status**: Married-civ-spouse, Divorced, Never-married, Separated, Widowed, Married-spouse-absent, Married-AF-spouse. \n",
    "* **occupation**: Tech-support, Craft-repair, Other-service, Sales, Exec-managerial, Prof-specialty, Handlers-cleaners, Machine-op-inspct, Adm-clerical, Farming-fishing, Transport-moving, Priv-house-serv, Protective-serv, Armed-Forces. \n",
    "* **relationship**: Wife, Own-child, Husband, Not-in-family, Other-relative, Unmarried. \n",
    "* **race**: Black, White, Asian-Pac-Islander, Amer-Indian-Eskimo, Other. \n",
    "* **sex**: Female, Male. \n",
    "* **capital-gain**: continuous. \n",
    "* **capital-loss**: continuous. \n",
    "* **hours-per-week**: continuous. \n",
    "* **native-country**: United-States, Cambodia, England, Puerto-Rico, Canada, Germany, Outlying-US(Guam-USVI-etc), India, Japan, Greece, South, China, Cuba, Iran, Honduras, Philippines, Italy, Poland, Jamaica, Vietnam, Mexico, Portugal, Ireland, France, Dominican-Republic, Laos, Ecuador, Taiwan, Haiti, Columbia, Hungary, Guatemala, Nicaragua, Scotland, Thailand, Yugoslavia, El-Salvador, Trinadad&Tobago, Peru, Hong, Holand-Netherlands."
   ]
  },
  {
   "cell_type": "markdown",
   "metadata": {},
   "source": [
    "----\n",
    "## Preparing the Data\n",
    "Before data can be used as input for machine learning algorithms, it often must be cleaned, formatted, and restructured — this is typically known as **preprocessing**. Fortunately, for this dataset, there are no invalid or missing entries we must deal with, however, there are some qualities about certain features that must be adjusted. This preprocessing can help tremendously with the outcome and predictive power of nearly all learning algorithms."
   ]
  },
  {
   "cell_type": "markdown",
   "metadata": {},
   "source": [
    "### Transforming Skewed Continuous Features\n",
    "A dataset may sometimes contain at least one feature whose values tend to lie near a single number, but will also have a non-trivial number of vastly larger or smaller values than that single number.  Algorithms can be sensitive to such distributions of values and can underperform if the range is not properly normalized. With the census dataset two features fit this description: '`capital-gain'` and `'capital-loss'`. \n",
    "\n",
    "Run the code cell below to plot a histogram of these two features. Note the range of the values present and how they are distributed."
   ]
  },
  {
   "cell_type": "code",
   "execution_count": 3,
   "metadata": {},
   "outputs": [
    {
     "data": {
      "image/png": "[encoded data removed]",
      "text/plain": [
       "<matplotlib.figure.Figure at 0x7f726ddaeac8>"
      ]
     },
     "metadata": {
      "needs_background": "light"
     },
     "output_type": "display_data"
    }
   ],
   "source": [
    "# Split the data into features and target label\n",
    "income_raw = data['income']\n",
    "features_raw = data.drop('income', axis = 1)\n",
    "\n",
    "# Visualize skewed continuous features of original data\n",
    "vs.distribution(data)"
   ]
  },
  {
   "cell_type": "markdown",
   "metadata": {},
   "source": [
    "For highly-skewed feature distributions such as `'capital-gain'` and `'capital-loss'`, it is common practice to apply a <a href=\"https://en.wikipedia.org/wiki/Data_transformation_(statistics)\">logarithmic transformation</a> on the data so that the very large and very small values do not negatively affect the performance of a learning algorithm. Using a logarithmic transformation significantly reduces the range of values caused by outliers. Care must be taken when applying this transformation however: The logarithm of `0` is undefined, so we must translate the values by a small amount above `0` to apply the the logarithm successfully.\n",
    "\n",
    "Run the code cell below to perform a transformation on the data and visualize the results. Again, note the range of values and how they are distributed. "
   ]
  },
  {
   "cell_type": "code",
   "execution_count": 4,
   "metadata": {},
   "outputs": [
    {
     "data": {
      "image/png": "[encoded data removed]",
      "text/plain": [
       "<matplotlib.figure.Figure at 0x7f72885f1128>"
      ]
     },
     "metadata": {
      "needs_background": "light"
     },
     "output_type": "display_data"
    }
   ],
   "source": [
    "# Log-transform the skewed features\n",
    "skewed = ['capital-gain', 'capital-loss']\n",
    "features_log_transformed = pd.DataFrame(data = features_raw)\n",
    "features_log_transformed[skewed] = features_raw[skewed].apply(lambda x: np.log(x + 1))\n",
    "\n",
    "# Visualize the new log distributions\n",
    "vs.distribution(features_log_transformed, transformed = True)"
   ]
  },
  {
   "cell_type": "markdown",
   "metadata": {},
   "source": [
    "### Normalizing Numerical Features\n",
    "In addition to performing transformations on features that are highly skewed, it is often good practice to perform some type of scaling on numerical features. Applying a scaling to the data does not change the shape of each feature's distribution (such as `'capital-gain'` or `'capital-loss'` above); however, normalization ensures that each feature is treated equally when applying supervised learners. Note that once scaling is applied, observing the data in its raw form will no longer have the same original meaning, as exampled below.\n",
    "\n",
    "Run the code cell below to normalize each numerical feature. We will use [`sklearn.preprocessing.MinMaxScaler`](http://scikit-learn.org/stable/modules/generated/sklearn.preprocessing.MinMaxScaler.html) for this."
   ]
  },
  {
   "cell_type": "code",
   "execution_count": 5,
   "metadata": {},
   "outputs": [
    {
     "data": {
      "text/html": [
       "<div>\n",
       "<style scoped>\n",
       "    .dataframe tbody tr th:only-of-type {\n",
       "        vertical-align: middle;\n",
       "    }\n",
       "\n",
       "    .dataframe tbody tr th {\n",
       "        vertical-align: top;\n",
       "    }\n",
       "\n",
       "    .dataframe thead th {\n",
       "        text-align: right;\n",
       "    }\n",
       "</style>\n",
       "<table border=\"1\" class=\"dataframe\">\n",
       "  <thead>\n",
       "    <tr style=\"text-align: right;\">\n",
       "      <th></th>\n",
       "      <th>age</th>\n",
       "      <th>workclass</th>\n",
       "      <th>education_level</th>\n",
       "      <th>education-num</th>\n",
       "      <th>marital-status</th>\n",
       "      <th>occupation</th>\n",
       "      <th>relationship</th>\n",
       "      <th>race</th>\n",
       "      <th>sex</th>\n",
       "      <th>capital-gain</th>\n",
       "      <th>capital-loss</th>\n",
       "      <th>hours-per-week</th>\n",
       "      <th>native-country</th>\n",
       "    </tr>\n",
       "  </thead>\n",
       "  <tbody>\n",
       "    <tr>\n",
       "      <th>0</th>\n",
       "      <td>0.301370</td>\n",
       "      <td>State-gov</td>\n",
       "      <td>Bachelors</td>\n",
       "      <td>0.800000</td>\n",
       "      <td>Never-married</td>\n",
       "      <td>Adm-clerical</td>\n",
       "      <td>Not-in-family</td>\n",
       "      <td>White</td>\n",
       "      <td>Male</td>\n",
       "      <td>0.667492</td>\n",
       "      <td>0.0</td>\n",
       "      <td>0.397959</td>\n",
       "      <td>United-States</td>\n",
       "    </tr>\n",
       "    <tr>\n",
       "      <th>1</th>\n",
       "      <td>0.452055</td>\n",
       "      <td>Self-emp-not-inc</td>\n",
       "      <td>Bachelors</td>\n",
       "      <td>0.800000</td>\n",
       "      <td>Married-civ-spouse</td>\n",
       "      <td>Exec-managerial</td>\n",
       "      <td>Husband</td>\n",
       "      <td>White</td>\n",
       "      <td>Male</td>\n",
       "      <td>0.000000</td>\n",
       "      <td>0.0</td>\n",
       "      <td>0.122449</td>\n",
       "      <td>United-States</td>\n",
       "    </tr>\n",
       "    <tr>\n",
       "      <th>2</th>\n",
       "      <td>0.287671</td>\n",
       "      <td>Private</td>\n",
       "      <td>HS-grad</td>\n",
       "      <td>0.533333</td>\n",
       "      <td>Divorced</td>\n",
       "      <td>Handlers-cleaners</td>\n",
       "      <td>Not-in-family</td>\n",
       "      <td>White</td>\n",
       "      <td>Male</td>\n",
       "      <td>0.000000</td>\n",
       "      <td>0.0</td>\n",
       "      <td>0.397959</td>\n",
       "      <td>United-States</td>\n",
       "    </tr>\n",
       "    <tr>\n",
       "      <th>3</th>\n",
       "      <td>0.493151</td>\n",
       "      <td>Private</td>\n",
       "      <td>11th</td>\n",
       "      <td>0.400000</td>\n",
       "      <td>Married-civ-spouse</td>\n",
       "      <td>Handlers-cleaners</td>\n",
       "      <td>Husband</td>\n",
       "      <td>Black</td>\n",
       "      <td>Male</td>\n",
       "      <td>0.000000</td>\n",
       "      <td>0.0</td>\n",
       "      <td>0.397959</td>\n",
       "      <td>United-States</td>\n",
       "    </tr>\n",
       "    <tr>\n",
       "      <th>4</th>\n",
       "      <td>0.150685</td>\n",
       "      <td>Private</td>\n",
       "      <td>Bachelors</td>\n",
       "      <td>0.800000</td>\n",
       "      <td>Married-civ-spouse</td>\n",
       "      <td>Prof-specialty</td>\n",
       "      <td>Wife</td>\n",
       "      <td>Black</td>\n",
       "      <td>Female</td>\n",
       "      <td>0.000000</td>\n",
       "      <td>0.0</td>\n",
       "      <td>0.397959</td>\n",
       "      <td>Cuba</td>\n",
       "    </tr>\n",
       "  </tbody>\n",
       "</table>\n",
       "</div>"
      ],
      "text/plain": [
       "        age          workclass education_level  education-num  \\\n",
       "0  0.301370          State-gov       Bachelors       0.800000   \n",
       "1  0.452055   Self-emp-not-inc       Bachelors       0.800000   \n",
       "2  0.287671            Private         HS-grad       0.533333   \n",
       "3  0.493151            Private            11th       0.400000   \n",
       "4  0.150685            Private       Bachelors       0.800000   \n",
       "\n",
       "        marital-status          occupation    relationship    race      sex  \\\n",
       "0        Never-married        Adm-clerical   Not-in-family   White     Male   \n",
       "1   Married-civ-spouse     Exec-managerial         Husband   White     Male   \n",
       "2             Divorced   Handlers-cleaners   Not-in-family   White     Male   \n",
       "3   Married-civ-spouse   Handlers-cleaners         Husband   Black     Male   \n",
       "4   Married-civ-spouse      Prof-specialty            Wife   Black   Female   \n",
       "\n",
       "   capital-gain  capital-loss  hours-per-week  native-country  \n",
       "0      0.667492           0.0        0.397959   United-States  \n",
       "1      0.000000           0.0        0.122449   United-States  \n",
       "2      0.000000           0.0        0.397959   United-States  \n",
       "3      0.000000           0.0        0.397959   United-States  \n",
       "4      0.000000           0.0        0.397959            Cuba  "
      ]
     },
     "metadata": {},
     "output_type": "display_data"
    }
   ],
   "source": [
    "# Import sklearn.preprocessing.StandardScaler\n",
    "from sklearn.preprocessing import MinMaxScaler\n",
    "\n",
    "# Initialize a scaler, then apply it to the features\n",
    "scaler = MinMaxScaler() # default=(0, 1)\n",
    "numerical = ['age', 'education-num', 'capital-gain', 'capital-loss', 'hours-per-week']\n",
    "\n",
    "features_log_minmax_transform = pd.DataFrame(data = features_log_transformed)\n",
    "features_log_minmax_transform[numerical] = scaler.fit_transform(features_log_transformed[numerical])\n",
    "\n",
    "# Show an example of a record with scaling applied\n",
    "display(features_log_minmax_transform.head(n = 5))"
   ]
  },
  {
   "cell_type": "markdown",
   "metadata": {},
   "source": [
    "### Implementation: Data Preprocessing\n",
    "\n",
    "From the table in **Exploring the Data** above, we can see there are several features for each record that are non-numeric. Typically, learning algorithms expect input to be numeric, which requires that non-numeric features (called *categorical variables*) be converted. One popular way to convert categorical variables is by using the **one-hot encoding** scheme. One-hot encoding creates a _\"dummy\"_ variable for each possible category of each non-numeric feature. For example, assume `someFeature` has three possible entries: `A`, `B`, or `C`. We then encode this feature into `someFeature_A`, `someFeature_B` and `someFeature_C`.\n",
    "\n",
    "|   | someFeature |                    | someFeature_A | someFeature_B | someFeature_C |\n",
    "| :-: | :-: |                            | :-: | :-: | :-: |\n",
    "| 0 |  B  |  | 0 | 1 | 0 |\n",
    "| 1 |  C  | ----> one-hot encode ----> | 0 | 0 | 1 |\n",
    "| 2 |  A  |  | 1 | 0 | 0 |\n",
    "\n",
    "Additionally, as with the non-numeric features, we need to convert the non-numeric target label, `'income'` to numerical values for the learning algorithm to work. Since there are only two possible categories for this label (\"<=50K\" and \">50K\"), we can avoid using one-hot encoding and simply encode these two categories as `0` and `1`, respectively. In code cell below, you will need to implement the following:\n",
    " - Use [`pandas.get_dummies()`](http://pandas.pydata.org/pandas-docs/stable/generated/pandas.get_dummies.html?highlight=get_dummies#pandas.get_dummies) to perform one-hot encoding on the `'features_log_minmax_transform'` data.\n",
    " - Convert the target label `'income_raw'` to numerical entries.\n",
    "   - Set records with \"<=50K\" to `0` and records with \">50K\" to `1`."
   ]
  },
  {
   "cell_type": "code",
   "execution_count": 6,
   "metadata": {
    "scrolled": true
   },
   "outputs": [
    {
     "name": "stdout",
     "output_type": "stream",
     "text": [
      "103 total features after one-hot encoding.\n",
      "['age', 'education-num', 'capital-gain', 'capital-loss', 'hours-per-week', 'workclass_ Federal-gov', 'workclass_ Local-gov', 'workclass_ Private', 'workclass_ Self-emp-inc', 'workclass_ Self-emp-not-inc', 'workclass_ State-gov', 'workclass_ Without-pay', 'education_level_ 10th', 'education_level_ 11th', 'education_level_ 12th', 'education_level_ 1st-4th', 'education_level_ 5th-6th', 'education_level_ 7th-8th', 'education_level_ 9th', 'education_level_ Assoc-acdm', 'education_level_ Assoc-voc', 'education_level_ Bachelors', 'education_level_ Doctorate', 'education_level_ HS-grad', 'education_level_ Masters', 'education_level_ Preschool', 'education_level_ Prof-school', 'education_level_ Some-college', 'marital-status_ Divorced', 'marital-status_ Married-AF-spouse', 'marital-status_ Married-civ-spouse', 'marital-status_ Married-spouse-absent', 'marital-status_ Never-married', 'marital-status_ Separated', 'marital-status_ Widowed', 'occupation_ Adm-clerical', 'occupation_ Armed-Forces', 'occupation_ Craft-repair', 'occupation_ Exec-managerial', 'occupation_ Farming-fishing', 'occupation_ Handlers-cleaners', 'occupation_ Machine-op-inspct', 'occupation_ Other-service', 'occupation_ Priv-house-serv', 'occupation_ Prof-specialty', 'occupation_ Protective-serv', 'occupation_ Sales', 'occupation_ Tech-support', 'occupation_ Transport-moving', 'relationship_ Husband', 'relationship_ Not-in-family', 'relationship_ Other-relative', 'relationship_ Own-child', 'relationship_ Unmarried', 'relationship_ Wife', 'race_ Amer-Indian-Eskimo', 'race_ Asian-Pac-Islander', 'race_ Black', 'race_ Other', 'race_ White', 'sex_ Female', 'sex_ Male', 'native-country_ Cambodia', 'native-country_ Canada', 'native-country_ China', 'native-country_ Columbia', 'native-country_ Cuba', 'native-country_ Dominican-Republic', 'native-country_ Ecuador', 'native-country_ El-Salvador', 'native-country_ England', 'native-country_ France', 'native-country_ Germany', 'native-country_ Greece', 'native-country_ Guatemala', 'native-country_ Haiti', 'native-country_ Holand-Netherlands', 'native-country_ Honduras', 'native-country_ Hong', 'native-country_ Hungary', 'native-country_ India', 'native-country_ Iran', 'native-country_ Ireland', 'native-country_ Italy', 'native-country_ Jamaica', 'native-country_ Japan', 'native-country_ Laos', 'native-country_ Mexico', 'native-country_ Nicaragua', 'native-country_ Outlying-US(Guam-USVI-etc)', 'native-country_ Peru', 'native-country_ Philippines', 'native-country_ Poland', 'native-country_ Portugal', 'native-country_ Puerto-Rico', 'native-country_ Scotland', 'native-country_ South', 'native-country_ Taiwan', 'native-country_ Thailand', 'native-country_ Trinadad&Tobago', 'native-country_ United-States', 'native-country_ Vietnam', 'native-country_ Yugoslavia']\n"
     ]
    }
   ],
   "source": [
    "# TODO: One-hot encode the 'features_log_minmax_transform' data using pandas.get_dummies()\n",
    "features_final = pd.get_dummies(features_log_minmax_transform)\n",
    "\n",
    "# TODO: Encode the 'income_raw' data to numerical values\n",
    "income = income_raw.apply(lambda x: 0 if x == '<=50K' else 1)\n",
    "#income = income_raw\n",
    "\n",
    "# Print the number of features after one-hot encoding\n",
    "encoded = list(features_final.columns)\n",
    "print(\"{} total features after one-hot encoding.\".format(len(encoded)))\n",
    "\n",
    "# Uncomment the following line to see the encoded feature names\n",
    "print(encoded)"
   ]
  },
  {
   "cell_type": "markdown",
   "metadata": {},
   "source": [
    "### Shuffle and Split Data\n",
    "Now all _categorical variables_ have been converted into numerical features, and all numerical features have been normalized. As always, we will now split the data (both features and their labels) into training and test sets. 80% of the data will be used for training and 20% for testing.\n",
    "\n",
    "Run the code cell below to perform this split."
   ]
  },
  {
   "cell_type": "code",
   "execution_count": 7,
   "metadata": {},
   "outputs": [
    {
     "name": "stdout",
     "output_type": "stream",
     "text": [
      "Training set has 36177 samples.\n",
      "Testing set has 9045 samples.\n"
     ]
    }
   ],
   "source": [
    "# Import train_test_split\n",
    "from sklearn.model_selection import train_test_split\n",
    "\n",
    "# Split the 'features' and 'income' data into training and testing sets\n",
    "X_train, X_test, y_train, y_test = train_test_split(features_final, \n",
    "                                                    income, \n",
    "                                                    test_size = 0.2, \n",
    "                                                    random_state = 0)\n",
    "\n",
    "# Show the results of the split\n",
    "print(\"Training set has {} samples.\".format(X_train.shape[0]))\n",
    "print(\"Testing set has {} samples.\".format(X_test.shape[0]))"
   ]
  },
  {
   "cell_type": "markdown",
   "metadata": {},
   "source": [
    "----\n",
    "## Evaluating Model Performance\n",
    "In this section, we will investigate four different algorithms, and determine which is best at modeling the data. Three of these algorithms will be supervised learners of your choice, and the fourth algorithm is known as a *naive predictor*."
   ]
  },
  {
   "cell_type": "markdown",
   "metadata": {},
   "source": [
    "### Metrics and the Naive Predictor\n",
    "*CharityML*, equipped with their research, knows individuals that make more than \\$50,000 are most likely to donate to their charity. Because of this, *CharityML* is particularly interested in predicting who makes more than \\$50,000 accurately. It would seem that using **accuracy** as a metric for evaluating a particular model's performace would be appropriate. Additionally, identifying someone that *does not* make more than \\$50,000 as someone who does would be detrimental to *CharityML*, since they are looking to find individuals willing to donate. Therefore, a model's ability to precisely predict those that make more than \\$50,000 is *more important* than the model's ability to **recall** those individuals. We can use **F-beta score** as a metric that considers both precision and recall:\n",
    "\n",
    "$$ F_{\\beta} = (1 + \\beta^2) \\cdot \\frac{precision \\cdot recall}{\\left( \\beta^2 \\cdot precision \\right) + recall} $$\n",
    "\n",
    "In particular, when $\\beta = 0.5$, more emphasis is placed on precision. This is called the **F$_{0.5}$ score** (or F-score for simplicity).\n",
    "\n",
    "Looking at the distribution of classes (those who make at most \\$50,000, and those who make more), it's clear most individuals do not make more than \\$50,000. This can greatly affect **accuracy**, since we could simply say *\"this person does not make more than \\$50,000\"* and generally be right, without ever looking at the data! Making such a statement would be called **naive**, since we have not considered any information to substantiate the claim. It is always important to consider the *naive prediction* for your data, to help establish a benchmark for whether a model is performing well. That been said, using that prediction would be pointless: If we predicted all people made less than \\$50,000, *CharityML* would identify no one as donors. \n",
    "\n",
    "\n",
    "#### Note: Recap of accuracy, precision, recall\n",
    "\n",
    "** Accuracy ** measures how often the classifier makes the correct prediction. It’s the ratio of the number of correct predictions to the total number of predictions (the number of test data points).\n",
    "\n",
    "** Precision ** tells us what proportion of messages we classified as spam, actually were spam.\n",
    "It is a ratio of true positives(words classified as spam, and which are actually spam) to all positives(all words classified as spam, irrespective of whether that was the correct classificatio), in other words it is the ratio of\n",
    "\n",
    "`[True Positives/(True Positives + False Positives)]`\n",
    "\n",
    "** Recall(sensitivity)** tells us what proportion of messages that actually were spam were classified by us as spam.\n",
    "It is a ratio of true positives(words classified as spam, and which are actually spam) to all the words that were actually spam, in other words it is the ratio of\n",
    "\n",
    "`[True Positives/(True Positives + False Negatives)]`\n",
    "\n",
    "For classification problems that are skewed in their classification distributions like in our case, for example if we had a 100 text messages and only 2 were spam and the rest 98 weren't, accuracy by itself is not a very good metric. We could classify 90 messages as not spam(including the 2 that were spam but we classify them as not spam, hence they would be false negatives) and 10 as spam(all 10 false positives) and still get a reasonably good accuracy score. For such cases, precision and recall come in very handy. These two metrics can be combined to get the F1 score, which is weighted average(harmonic mean) of the precision and recall scores. This score can range from 0 to 1, with 1 being the best possible F1 score(we take the harmonic mean as we are dealing with ratios)."
   ]
  },
  {
   "cell_type": "markdown",
   "metadata": {},
   "source": [
    "### Question 1 - Naive Predictor Performace\n",
    "* If we chose a model that always predicted an individual made more than $50,000, what would  that model's accuracy and F-score be on this dataset? You must use the code cell below and assign your results to `'accuracy'` and `'fscore'` to be used later.\n",
    "\n",
    "** Please note ** that the the purpose of generating a naive predictor is simply to show what a base model without any intelligence would look like. In the real world, ideally your base model would be either the results of a previous model or could be based on a research paper upon which you are looking to improve. When there is no benchmark model set, getting a result better than random choice is a place you could start from.\n",
    "\n",
    "** HINT: ** \n",
    "\n",
    "* When we have a model that always predicts '1' (i.e. the individual makes more than 50k) then our model will have no True Negatives(TN) or False Negatives(FN) as we are not making any negative('0' value) predictions. Therefore our Accuracy in this case becomes the same as our Precision(True Positives/(True Positives + False Positives)) as every prediction that we have made with value '1' that should have '0' becomes a False Positive; therefore our denominator in this case is the total number of records we have in total. \n",
    "* Our Recall score(True Positives/(True Positives + False Negatives)) in this setting becomes 1 as we have no False Negatives."
   ]
  },
  {
   "cell_type": "code",
   "execution_count": 8,
   "metadata": {},
   "outputs": [
    {
     "name": "stdout",
     "output_type": "stream",
     "text": [
      "Naive Predictor: [Accuracy score: 0.2478, F-score: 0.2917]\n"
     ]
    }
   ],
   "source": [
    "'''\n",
    "TP = np.sum(income) # Counting the ones as this is the naive case. Note that 'income' is the 'income_raw' data \n",
    "encoded to numerical values done in the data preprocessing step.\n",
    "FP = income.count() - TP # Specific to the naive case\n",
    "\n",
    "TN = 0 # No predicted negatives in the naive case\n",
    "FN = 0 # No predicted negatives in the naive case\n",
    "'''\n",
    "TP = np.sum(income)\n",
    "FP = income.count() - TP\n",
    "TN = 0\n",
    "FN = 0\n",
    "\n",
    "# TODO: Calculate accuracy, precision and recall\n",
    "accuracy = float(TP) / float(TP + FP)\n",
    "recall = float(TP) / float(TP + FN)\n",
    "precision = accuracy\n",
    "\n",
    "# TODO: Calculate F-score using the formula above for beta = 0.5 and correct values for precision and recall.\n",
    "fscore = (1 + 0.5**2) * (precision * recall) / ((0.5**2 * precision) + recall)\n",
    "\n",
    "# Print the results \n",
    "print(\"Naive Predictor: [Accuracy score: {:.4f}, F-score: {:.4f}]\".format(accuracy, fscore))"
   ]
  },
  {
   "cell_type": "markdown",
   "metadata": {},
   "source": [
    "###  Supervised Learning Models\n",
    "**The following are some of the supervised learning models that are currently available in** [`scikit-learn`](http://scikit-learn.org/stable/supervised_learning.html) **that you may choose from:**\n",
    "- Gaussian Naive Bayes (GaussianNB)\n",
    "- Decision Trees\n",
    "- Ensemble Methods (Bagging, AdaBoost, Random Forest, Gradient Boosting)\n",
    "- K-Nearest Neighbors (KNeighbors)\n",
    "- Stochastic Gradient Descent Classifier (SGDC)\n",
    "- Support Vector Machines (SVM)\n",
    "- Logistic Regression"
   ]
  },
  {
   "cell_type": "markdown",
   "metadata": {},
   "source": [
    "### Question 2 - Model Application\n",
    "List three of the supervised learning models above that are appropriate for this problem that you will test on the census data. For each model chosen\n",
    "\n",
    "- Describe one real-world application in industry where the model can be applied. \n",
    "- What are the strengths of the model; when does it perform well?\n",
    "- What are the weaknesses of the model; when does it perform poorly?\n",
    "- What makes this model a good candidate for the problem, given what you know about the data?\n",
    "\n",
    "** HINT: **\n",
    "\n",
    "Structure your answer in the same format as above^, with 4 parts for each of the three models you pick. Please include references with your answer."
   ]
  },
  {
   "cell_type": "markdown",
   "metadata": {},
   "source": [
    "**Answer:**\n",
    "\n",
    "\n",
    "Let’s first understand our task. The problem we want to solve is that we want to predict an individual’s income based on information provided of that individual, such as age, education, occupation, hours per week they work etc. We only want to know if they make more than 50K or not. So the outcome of our program will be, say 0 if <=50K or 1 if >50K, a binary classification. So we can say that our problem is of binary classification. So we will be looking at classification algorithm to solve this problem.\n",
    "\n",
    "\n",
    "Now to solve this problem, we have many classification algorithms, some are mentioned below with brief description:\n",
    "\n",
    "1.\tNaive Bayes Classifier : It works on probability. It is also called probabilistic classifier. The formula for it is : P(A|B) = P(B|A)P(A)/P(B). Using this formula we can calculate the probability of A happening, given B has already happened. This model is used for spam email classification.\n",
    "\n",
    "2.\tDecision Trees : They have structures like trees. One way to imagine this algorithm is to think of conditional control statements. A decision tree has a flowchart-like structure where each internal node represents some condition, and each leaf node represents class label. \n",
    "\n",
    "3.\tEnsemble methods : These methods work by combining weak models into a strong model. We usually use decision trees as weak models. Some of these methods are :\n",
    "\n",
    "    a.\tBagging : In Bagging we first create weak learners, and then combine them by voting or averaging. By doing this we get a strong learner. Here we train on small random samples of the dataset.\n",
    "    b.\tAdaBoost : In AdaBoost, the algorithm trains on the original dataset, and then fits additional copies of the classifier on the same dataset but now focuses on misclassified points more, that means tries to correctly classify those misclassified points.\n",
    "    c.\tRandomForest : In this method we create each weak learner by training on some random features or columns of the dataset. So we if we have n number of features in the dataset, then we will chose k number of features randomly, where k < n. After getting some models, we combine them by averaging their predictions.\n",
    "    d.\tGradient Boosting : It works same as AdaBoost, but it uses a loss function to calculate the error. \n",
    "\n",
    "4.\tK – Nearest Neighbors : It works by assuming that similar things tends to be near to each other. It is very easy to implement but as the number of examples increase, the algorithm gets slower. Here K is a number that represents number of neighbors that will be used to determine the class of the point. K will be a positive number. We will use odd number for K if we want to solve 2  class problem.\n",
    "\n",
    "5.\tStochastic Gradient Descent Classifier : It is an optimization method. It is used to optimize a model, such as LR or SVM. We first use some function to calculate the error, and then through each iteration of learning, we try to minimize the error. But it requires too many hyperparameters.\n",
    "\n",
    "6.\tSVM : SVM provides an optimal hyperplane which splits the points in different category. For a 2 dimensional space, this hyperplane is a line that divides the plane in two parts where each part describes a class. The separate categories are divided by a clear gap that is as wide as possible.\n",
    "\n",
    "7.\tLogistic Regression : It is a predictive analysis, and is used to describe data and explain the relationship between a dependent binary variable and one or more independent variables. It uses a logistic function to model a binary dependent variable. This dependent variable can have two possible values, such as pass or fail, or in our case <=50K or >50K.\n",
    "\n",
    "The algorithms I am to use to solve the problem from above given algorithms are given below :\n",
    "\n",
    "__AdaBoostClassifier__\n",
    "\n",
    "_references :_ [Boosting and AdaBoost for Machine Learning](https://machinelearningmastery.com/boosting-and-adaboost-for-machine-learning/), [Boosting Algorithm and Applications](http://users.cecs.anu.edu.au/~wanglei/SPR_course/boosting.pdf), [Understanding AdaBoost](https://towardsdatascience.com/understanding-adaboost-2f94f22d5bfe)\n",
    "- Real-world application :\n",
    "    AdaBoost, and other ensemble methods are generally good at predictive tasks. Although, as they are general purpose, they can be applied to a variety of tasks. It adaptively adjusts the errors of the weak hypotheses by weak learner. One of the real-world application can be detecting objects from images or live video footages.\n",
    "\n",
    "- Strengths :\n",
    "    AdaBoost is best used to boost the performance of other algorithms, such as decision trees on classification problems. It combines weak learners to create a strong learner. So it is hard to overfit the model.\n",
    "\n",
    "- Weaknesses :\n",
    "    In our case, it takes more time to predict any value. It requires that the training data be of high-quality. Another weakness of AdaBoost is that it will work too hard with outliers to correctly classify them. Also the noise in the data can be very problematic.\n",
    "\n",
    "- Why choose this model? :\n",
    "    It iteratively tries to correct mistakes of weak learners and improves accuracy. Training time is not so high. They are used to boost the performance decision tables on binary classification. Since we are trying to solve a problem of binary classification, and the AdaBoost is especially used to boost the performance of this task, I think it is a good candidate.\n",
    "\n",
    "__GradientBoostingClassifier__\n",
    "\n",
    "_references :_ [GradientBoostingClassifier](https://scikit-learn.org/0.15/modules/generated/sklearn.ensemble.GradientBoostingClassifier.html), [Wikipedia: Gradient Boosting](https://en.wikipedia.org/wiki/Gradient_boosting), [Understanding Gradient Boosting Machines](https://towardsdatascience.com/understanding-gradient-boosting-machines-9be756fe76ab), [A gentle introduction to Gradient Boosting algorithm for Machine learning](https://machinelearningmastery.com/gentle-introduction-gradient-boosting-algorithm-machine-learning/)\n",
    "- Real-world application :\n",
    "    Gradient Boosting is one of the most powerful techniques for building predictive models. It has 3 elements. 1.  A loss function, 2. A weak learner to make predictions, 3. An adaptive model to minimize the loss function. It can be used in the field of learning to rank. Yahoo uses variants of gradient boosting for their machine-learning ranking engines.\n",
    "\n",
    "- Strengths :\n",
    "    Gradient Boosting is very good for large datasets. It reduces bias and variance. It allows for the optimization of arbitrary loss functions.\n",
    "\n",
    "- Weaknesses :\n",
    "    Gradient Boosting can easily overfit data if the sample size is too small. Training time is relatively high.\n",
    "\n",
    "- Why choose this model? :\n",
    "    The dataset used is fairly clean and large, so Gradient Boosting is also a good candidate for the task.\n",
    "\n",
    "__RandomForestClassifier__\n",
    "\n",
    "_references :_ [Wikipedia : Random Forest](https://en.wikipedia.org/wiki/Random_forest), [Random Forest Analysis and in ML and when to use it](https://www.newgenapps.com/blog/random-forest-analysis-in-ml-and-when-to-use-it), [Applications of Random Forest algorithm](https://www.stata.com/meeting/canada18/slides/canada18_Zou.pdf), [Advantages and Disadvantages of Random Forests](https://www.quora.com/What-are-the-advantages-and-disadvantages-for-a-random-forest-algorithm), [Using Random Forest to learn imbalanced data](https://statistics.berkeley.edu/sites/default/files/tech-reports/666.pdf)\n",
    "- Real-world application :\n",
    "    Random forest model can be applied in medical domain to identify a disease based on symptoms. An example : [prediction of Alzheimer's disease](https://www.sciencedirect.com/science/article/pii/S2213158214001326)\n",
    "\n",
    "- Strengths :\n",
    "    RandomForest is good for large datasets. It can be run in parallel to speed up training. It has methods for balancing errors. \n",
    "\n",
    "- Weaknesses :\n",
    "    They can overfit datasets that are particularly noisy. It fails when there are rare outcomes. In our case, it is less accurate then the others.\n",
    "\n",
    "- Why choose this model? :\n",
    "    Random forest is capable to handle the large dataset with higher dimensionality. We have 36177 records to train from, random forest can train much better. They tend to give better results when there are categorical variables. Training time is also low."
   ]
  },
  {
   "cell_type": "markdown",
   "metadata": {},
   "source": [
    "### Implementation - Creating a Training and Predicting Pipeline\n",
    "To properly evaluate the performance of each model you've chosen, it's important that you create a training and predicting pipeline that allows you to quickly and effectively train models using various sizes of training data and perform predictions on the testing data. Your implementation here will be used in the following section.\n",
    "In the code block below, you will need to implement the following:\n",
    " - Import `fbeta_score` and `accuracy_score` from [`sklearn.metrics`](http://scikit-learn.org/stable/modules/classes.html#sklearn-metrics-metrics).\n",
    " - Fit the learner to the sampled training data and record the training time.\n",
    " - Perform predictions on the test data `X_test`, and also on the first 300 training points `X_train[:300]`.\n",
    "   - Record the total prediction time.\n",
    " - Calculate the accuracy score for both the training subset and testing set.\n",
    " - Calculate the F-score for both the training subset and testing set.\n",
    "   - Make sure that you set the `beta` parameter!"
   ]
  },
  {
   "cell_type": "code",
   "execution_count": 9,
   "metadata": {},
   "outputs": [],
   "source": [
    "# TODO: Import two metrics from sklearn - fbeta_score and accuracy_score\n",
    "from sklearn.metrics import accuracy_score, fbeta_score\n",
    "\n",
    "def train_predict(learner, sample_size, X_train, y_train, X_test, y_test): \n",
    "    '''\n",
    "    inputs:\n",
    "       - learner: the learning algorithm to be trained and predicted on\n",
    "       - sample_size: the size of samples (number) to be drawn from training set\n",
    "       - X_train: features training set\n",
    "       - y_train: income training set\n",
    "       - X_test: features testing set\n",
    "       - y_test: income testing set\n",
    "    '''\n",
    "    \n",
    "    results = {}\n",
    "    \n",
    "    # TODO: Fit the learner to the training data using slicing with 'sample_size' using .fit(training_features[:], training_labels[:])\n",
    "    start = time() # Get start time\n",
    "    learner.fit(X_train[:sample_size], y_train[:sample_size])\n",
    "    end = time() # Get end time\n",
    "    \n",
    "    # TODO: Calculate the training time\n",
    "    results['train_time'] = end - start\n",
    "        \n",
    "    # TODO: Get the predictions on the test set(X_test),\n",
    "    #       then get predictions on the first 300 training samples(X_train) using .predict()\n",
    "    start = time() # Get start time\n",
    "    predictions_test = learner.predict(X_test)\n",
    "    predictions_train = learner.predict(X_train[:300])\n",
    "    end = time() # Get end time\n",
    "    \n",
    "    # TODO: Calculate the total prediction time\n",
    "    results['pred_time'] = end - start\n",
    "            \n",
    "    # TODO: Compute accuracy on the first 300 training samples which is y_train[:300]\n",
    "    results['acc_train'] = accuracy_score(y_train[:300], predictions_train)\n",
    "        \n",
    "    # TODO: Compute accuracy on test set using accuracy_score()\n",
    "    results['acc_test'] = accuracy_score(y_test, predictions_test)\n",
    "    \n",
    "    # TODO: Compute F-score on the the first 300 training samples using fbeta_score()\n",
    "    results['f_train'] = fbeta_score(y_train[:300], predictions_train, 0.5)\n",
    "        \n",
    "    # TODO: Compute F-score on the test set which is y_test\n",
    "    results['f_test'] = fbeta_score(y_test, predictions_test, 0.5)\n",
    "       \n",
    "    # Success\n",
    "    print(\"{} trained on {} samples.\".format(learner.__class__.__name__, sample_size))\n",
    "        \n",
    "    # Return the results\n",
    "    return results"
   ]
  },
  {
   "cell_type": "markdown",
   "metadata": {},
   "source": [
    "### Implementation: Initial Model Evaluation\n",
    "In the code cell, you will need to implement the following:\n",
    "- Import the three supervised learning models you've discussed in the previous section.\n",
    "- Initialize the three models and store them in `'clf_A'`, `'clf_B'`, and `'clf_C'`.\n",
    "  - Use a `'random_state'` for each model you use, if provided.\n",
    "  - **Note:** Use the default settings for each model — you will tune one specific model in a later section.\n",
    "- Calculate the number of records equal to 1%, 10%, and 100% of the training data.\n",
    "  - Store those values in `'samples_1'`, `'samples_10'`, and `'samples_100'` respectively.\n",
    "\n",
    "**Note:** Depending on which algorithms you chose, the following implementation may take some time to run!"
   ]
  },
  {
   "cell_type": "code",
   "execution_count": 10,
   "metadata": {},
   "outputs": [
    {
     "name": "stdout",
     "output_type": "stream",
     "text": [
      "GradientBoostingClassifier trained on 361 samples.\n",
      "GradientBoostingClassifier trained on 3617 samples.\n",
      "GradientBoostingClassifier trained on 36177 samples.\n",
      "AdaBoostClassifier trained on 361 samples.\n",
      "AdaBoostClassifier trained on 3617 samples.\n",
      "AdaBoostClassifier trained on 36177 samples.\n",
      "RandomForestClassifier trained on 361 samples.\n",
      "RandomForestClassifier trained on 3617 samples.\n",
      "RandomForestClassifier trained on 36177 samples.\n"
     ]
    },
    {
     "data": {
      "image/png": "[encoded data removed]",
      "text/plain": [
       "<matplotlib.figure.Figure at 0x7f7255c74fd0>"
      ]
     },
     "metadata": {
      "needs_background": "light"
     },
     "output_type": "display_data"
    }
   ],
   "source": [
    "# TODO: Import the three supervised learning models from sklearn\n",
    "from sklearn.ensemble import GradientBoostingClassifier, AdaBoostClassifier, RandomForestClassifier\n",
    "\n",
    "# TODO: Initialize the three models\n",
    "clf_A = GradientBoostingClassifier(random_state=1)\n",
    "clf_B = AdaBoostClassifier(random_state=1)\n",
    "clf_C = RandomForestClassifier(random_state=1)\n",
    "\n",
    "# TODO: Calculate the number of samples for 1%, 10%, and 100% of the training data\n",
    "# HINT: samples_100 is the entire training set i.e. len(y_train)\n",
    "# HINT: samples_10 is 10% of samples_100 (ensure to set the count of the values to be `int` and not `float`)\n",
    "# HINT: samples_1 is 1% of samples_100 (ensure to set the count of the values to be `int` and not `float`)\n",
    "samples_100 = len(y_train)\n",
    "samples_10 = int(samples_100 / 10)\n",
    "samples_1 = int(samples_10 / 10)\n",
    "\n",
    "# Collect results on the learners\n",
    "results = {}\n",
    "for clf in [clf_A, clf_B, clf_C]:\n",
    "    clf_name = clf.__class__.__name__\n",
    "    results[clf_name] = {}\n",
    "    for i, samples in enumerate([samples_1, samples_10, samples_100]):\n",
    "        results[clf_name][i] = \\\n",
    "        train_predict(clf, samples, X_train, y_train, X_test, y_test)\n",
    "\n",
    "# Run metrics visualization for the three supervised learning models chosen\n",
    "vs.evaluate(results, accuracy, fscore)"
   ]
  },
  {
   "cell_type": "markdown",
   "metadata": {},
   "source": [
    "----\n",
    "## Improving Results\n",
    "In this final section, you will choose from the three supervised learning models the *best* model to use on the student data. You will then perform a grid search optimization for the model over the entire training set (`X_train` and `y_train`) by tuning at least one parameter to improve upon the untuned model's F-score. "
   ]
  },
  {
   "cell_type": "markdown",
   "metadata": {},
   "source": [
    "### Question 3 - Choosing the Best Model\n",
    "\n",
    "* Based on the evaluation you performed earlier, in one to two paragraphs, explain to *CharityML* which of the three models you believe to be most appropriate for the task of identifying individuals that make more than \\$50,000. \n",
    "\n",
    "** HINT: ** \n",
    "Look at the graph at the bottom left from the cell above(the visualization created by `vs.evaluate(results, accuracy, fscore)`) and check the F score for the testing set when 100% of the training set is used. Which model has the highest score? Your answer should include discussion of the:\n",
    "* metrics - F score on the testing when 100% of the training data is used, \n",
    "* prediction/training time\n",
    "* the algorithm's suitability for the data."
   ]
  },
  {
   "cell_type": "markdown",
   "metadata": {},
   "source": [
    "**Answer :**\n",
    "\n",
    "We will be using __GradientBoostingClassifier__ for this task for following reasons :\n",
    "- Our task is to classify an individual whether they make >50K or not. Gradient Boosting is very efficient for such tasks. As the the algorithm can easily handle large data, and handle higher dimensions it is suitable for our task.\n",
    "- Based on the charts shown above, it can easily be seen that chosen algorithm performs the best on the testing data with great accuracy and higher F-score.\n",
    "- Although it has higher training time, the prediction time is lowest of the three.\n",
    "- It keeps a steady amount of accuracy on both training and testing set."
   ]
  },
  {
   "cell_type": "markdown",
   "metadata": {},
   "source": [
    "### Question 4 - Describing the Model in Layman's Terms\n",
    "\n",
    "* In one to two paragraphs, explain to *CharityML*, in layman's terms, how the final model chosen is supposed to work. Be sure that you are describing the major qualities of the model, such as how the model is trained and how the model makes a prediction. Avoid using advanced mathematical jargon, such as describing equations.\n",
    "\n",
    "** HINT: **\n",
    "\n",
    "When explaining your model, if using external resources please include all citations."
   ]
  },
  {
   "cell_type": "markdown",
   "metadata": {},
   "source": [
    "**Answer :**\n",
    "\n",
    "The model we have chosen is _GradientBoostingClassifier_. The algorithm works by combining several weak learners to create a strong learner that can predict if an individual makes more than 50K or not. GradientBoostingClassifier uses Decision Trees to train weak learners. Let us first understand what are Decision Trees. Decision Trees are flow chart like structures. Here each internal node represents a condition or a test. And each leaf node holds a class label. In decision trees, we ask questions to predict something. These predictions will be our classification of individuals. A simple decision tree will look like this :"
   ]
  },
  {
   "cell_type": "markdown",
   "metadata": {},
   "source": [
    "<img src=\"data:image/png;base64,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\" style=\"width: 400px; height:auto;\">"
   ]
  },
  {
   "cell_type": "markdown",
   "metadata": {},
   "source": [
    "In boosting techniques such as AdaBoost or GradientBoosting, we first train a simple decision tree on our dataset. This first model will correctly identify some people as having income >50K. And it will miss some as well. Then we will create another tree so we can correctly identify individuals who have income >50k by using a loss function. Loss function is just a way for us to calculate error in our model. We will use this loss function to improve our model. We will create some of these trees, that try to identify individual's income correctly. All of these trees are our weak learners. They are just better than random guesses. They can be very much accurate also. \n",
    "\n",
    "Now how do we combine these weak learners? So say we have data of a new individual whose income we want to predict. We will have our weak learners vote on what they think the income of the individual will be or average them out. That is how we combine our weak learners. This is how our model will work."
   ]
  },
  {
   "cell_type": "markdown",
   "metadata": {},
   "source": [
    "### Implementation: Model Tuning\n",
    "Fine tune the chosen model. Use grid search (`GridSearchCV`) with at least one important parameter tuned with at least 3 different values. You will need to use the entire training set for this. In the code cell below, you will need to implement the following:\n",
    "- Import [`sklearn.grid_search.GridSearchCV`](http://scikit-learn.org/0.17/modules/generated/sklearn.grid_search.GridSearchCV.html) and [`sklearn.metrics.make_scorer`](http://scikit-learn.org/stable/modules/generated/sklearn.metrics.make_scorer.html).\n",
    "- Initialize the classifier you've chosen and store it in `clf`.\n",
    " - Set a `random_state` if one is available to the same state you set before.\n",
    "- Create a dictionary of parameters you wish to tune for the chosen model.\n",
    " - Example: `parameters = {'parameter' : [list of values]}`.\n",
    " - **Note:** Avoid tuning the `max_features` parameter of your learner if that parameter is available!\n",
    "- Use `make_scorer` to create an `fbeta_score` scoring object (with $\\beta = 0.5$).\n",
    "- Perform grid search on the classifier `clf` using the `'scorer'`, and store it in `grid_obj`.\n",
    "- Fit the grid search object to the training data (`X_train`, `y_train`), and store it in `grid_fit`.\n",
    "\n",
    "**Note:** Depending on the algorithm chosen and the parameter list, the following implementation may take some time to run!"
   ]
  },
  {
   "cell_type": "code",
   "execution_count": 11,
   "metadata": {},
   "outputs": [
    {
     "name": "stdout",
     "output_type": "stream",
     "text": [
      "Unoptimized model\n",
      "------\n",
      "Accuracy score on testing data: 0.8630\n",
      "F-score on testing data: 0.7395\n",
      "\n",
      "Optimized Model\n",
      "------\n",
      "Final accuracy score on the testing data: 0.8718\n",
      "Final F-score on the testing data: 0.7545\n"
     ]
    }
   ],
   "source": [
    "# TODO: Import 'GridSearchCV', 'make_scorer', and any other necessary libraries\n",
    "from sklearn.model_selection import GridSearchCV\n",
    "from sklearn.metrics import make_scorer, fbeta_score\n",
    "\n",
    "# TODO: Initialize the classifier\n",
    "clf = GradientBoostingClassifier(random_state=1)\n",
    "\n",
    "# TODO: Create the parameters list you wish to tune, using a dictionary if needed.\n",
    "# HINT: parameters = {'parameter_1': [value1, value2], 'parameter_2': [value1, value2]}\n",
    "parameters = {\n",
    "    #'max_depth'         : [7],\n",
    "    #'min_samples_split' : [7],\n",
    "    #'min_samples_leaf'  : [1],\n",
    "    'n_estimators'      : [500, 1000, 1500],\n",
    "    'learning_rate'     : [0.1, 0.2, 0.4, 0.6],\n",
    "    'random_state'      : [100, 120, 140]\n",
    "}\n",
    "\n",
    "# TODO: Make an fbeta_score scoring object using make_scorer()\n",
    "scorer = make_scorer(fbeta_score, beta=0.5)\n",
    "\n",
    "# TODO: Perform grid search on the classifier using 'scorer' as the scoring method using GridSearchCV()\n",
    "grid_obj = GridSearchCV(clf, parameters, scoring=scorer)\n",
    "\n",
    "# TODO: Fit the grid search object to the training data and find the optimal parameters using fit()\n",
    "grid_fit = grid_obj.fit(X_train, y_train)\n",
    "\n",
    "# Get the estimator\n",
    "best_clf = grid_fit.best_estimator_\n",
    "\n",
    "# Make predictions using the unoptimized and model\n",
    "predictions = (clf.fit(X_train, y_train)).predict(X_test)\n",
    "best_predictions = best_clf.predict(X_test)\n",
    "\n",
    "# Report the before-and-afterscores\n",
    "print(\"Unoptimized model\\n------\")\n",
    "print(\"Accuracy score on testing data: {:.4f}\".format(accuracy_score(y_test, predictions)))\n",
    "print(\"F-score on testing data: {:.4f}\".format(fbeta_score(y_test, predictions, beta = 0.5)))\n",
    "print(\"\\nOptimized Model\\n------\")\n",
    "print(\"Final accuracy score on the testing data: {:.4f}\".format(accuracy_score(y_test, best_predictions)))\n",
    "print(\"Final F-score on the testing data: {:.4f}\".format(fbeta_score(y_test, best_predictions, beta = 0.5)))"
   ]
  },
  {
   "cell_type": "code",
   "execution_count": 12,
   "metadata": {},
   "outputs": [
    {
     "data": {
      "text/plain": [
       "GradientBoostingClassifier(criterion='friedman_mse', init=None,\n",
       "              learning_rate=0.1, loss='deviance', max_depth=3,\n",
       "              max_features=None, max_leaf_nodes=None,\n",
       "              min_impurity_decrease=0.0, min_impurity_split=None,\n",
       "              min_samples_leaf=1, min_samples_split=2,\n",
       "              min_weight_fraction_leaf=0.0, n_estimators=500,\n",
       "              presort='auto', random_state=100, subsample=1.0, verbose=0,\n",
       "              warm_start=False)"
      ]
     },
     "execution_count": 12,
     "metadata": {},
     "output_type": "execute_result"
    }
   ],
   "source": [
    "best_clf"
   ]
  },
  {
   "cell_type": "code",
   "execution_count": 13,
   "metadata": {},
   "outputs": [
    {
     "data": {
      "text/plain": [
       "GradientBoostingClassifier(criterion='friedman_mse', init=None,\n",
       "              learning_rate=0.1, loss='deviance', max_depth=3,\n",
       "              max_features=None, max_leaf_nodes=None,\n",
       "              min_impurity_decrease=0.0, min_impurity_split=None,\n",
       "              min_samples_leaf=1, min_samples_split=2,\n",
       "              min_weight_fraction_leaf=0.0, n_estimators=500,\n",
       "              presort='auto', random_state=100, subsample=1.0, verbose=0,\n",
       "              warm_start=False)"
      ]
     },
     "execution_count": 13,
     "metadata": {},
     "output_type": "execute_result"
    }
   ],
   "source": [
    "best_clf #0.8718 0.7545"
   ]
  },
  {
   "cell_type": "markdown",
   "metadata": {},
   "source": [
    "### Question 5 - Final Model Evaluation\n",
    "\n",
    "* What is your optimized model's accuracy and F-score on the testing data? \n",
    "* Are these scores better or worse than the unoptimized model? \n",
    "* How do the results from your optimized model compare to the naive predictor benchmarks you found earlier in **Question 1**?_  \n",
    "\n",
    "**Note:** Fill in the table below with your results, and then provide discussion in the **Answer** box."
   ]
  },
  {
   "cell_type": "markdown",
   "metadata": {},
   "source": [
    "#### Results:\n",
    "\n",
    "|     Metric     | Unoptimized Model | Optimized Model |\n",
    "| :------------: | :---------------: | :-------------: | \n",
    "| Accuracy Score |      0.8630       |      0.8718     |\n",
    "| F-score        |      0.7395       |      0.7545     |\n"
   ]
  },
  {
   "cell_type": "markdown",
   "metadata": {},
   "source": [
    "**Answer: **\n",
    "\n",
    "- The scores of optimized model are slightly better than the unoptimized model. Maybe with more tuning greater accuracy can be achieved.\n",
    "- The optimized GradientBoostingClassifier model has a lot more accuracy and f score than the naive predictor. Accuracy is 0.8718 compare to 0.2478 in naive predictor, and F-score is 0.7545 compare to 0.2917."
   ]
  },
  {
   "cell_type": "markdown",
   "metadata": {},
   "source": [
    "----\n",
    "## Feature Importance\n",
    "\n",
    "An important task when performing supervised learning on a dataset like the census data we study here is determining which features provide the most predictive power. By focusing on the relationship between only a few crucial features and the target label we simplify our understanding of the phenomenon, which is most always a useful thing to do. In the case of this project, that means we wish to identify a small number of features that most strongly predict whether an individual makes at most or more than \\$50,000.\n",
    "\n",
    "Choose a scikit-learn classifier (e.g., adaboost, random forests) that has a `feature_importance_` attribute, which is a function that ranks the importance of features according to the chosen classifier.  In the next python cell fit this classifier to training set and use this attribute to determine the top 5 most important features for the census dataset."
   ]
  },
  {
   "cell_type": "markdown",
   "metadata": {},
   "source": [
    "### Question 6 - Feature Relevance Observation\n",
    "When **Exploring the Data**, it was shown there are thirteen available features for each individual on record in the census data. Of these thirteen records, which five features do you believe to be most important for prediction, and in what order would you rank them and why?"
   ]
  },
  {
   "cell_type": "markdown",
   "metadata": {},
   "source": [
    "**Answer:**\n",
    "\n",
    "The 5 features or 5 columns that I think are most relevant to predict income are as follows :\n",
    "\n",
    "1. *Age* : Well because higher the age, the more work experience he would have, resulting in higher earnings.\n",
    "2. *Education-num* : Because the higher the qualification, the better the post he would have.\n",
    "3. *Occupation* : Directly affects payroll.\n",
    "4. *Capital-gain* : It shows how much an individual gained, i.e. profited.\n",
    "5. *Capital-loss* : Shows how much loss an individual suffered. "
   ]
  },
  {
   "cell_type": "markdown",
   "metadata": {},
   "source": [
    "### Implementation - Extracting Feature Importance\n",
    "Choose a `scikit-learn` supervised learning algorithm that has a `feature_importance_` attribute availble for it. This attribute is a function that ranks the importance of each feature when making predictions based on the chosen algorithm.\n",
    "\n",
    "In the code cell below, you will need to implement the following:\n",
    " - Import a supervised learning model from sklearn if it is different from the three used earlier.\n",
    " - Train the supervised model on the entire training set.\n",
    " - Extract the feature importances using `'.feature_importances_'`."
   ]
  },
  {
   "cell_type": "code",
   "execution_count": 14,
   "metadata": {},
   "outputs": [
    {
     "data": {
      "image/png": "[encoded data removed]",
      "text/plain": [
       "<matplotlib.figure.Figure at 0x7f725408a3c8>"
      ]
     },
     "metadata": {
      "needs_background": "light"
     },
     "output_type": "display_data"
    }
   ],
   "source": [
    "# TODO: Import a supervised learning model that has 'feature_importances_'\n",
    "\n",
    "\n",
    "# TODO: Train the supervised model on the training set using .fit(X_train, y_train)\n",
    "model = GradientBoostingClassifier(n_estimators=500, random_state=100)\n",
    "model_fit = model.fit(X_train, y_train)\n",
    "\n",
    "# TODO: Extract the feature importances using .feature_importances_\n",
    "importances = model_fit.feature_importances_\n",
    "\n",
    "# Plot\n",
    "vs.feature_plot(importances, X_train, y_train)"
   ]
  },
  {
   "cell_type": "markdown",
   "metadata": {},
   "source": [
    "### Question 7 - Extracting Feature Importance\n",
    "\n",
    "Observe the visualization created above which displays the five most relevant features for predicting if an individual makes at most or above \\$50,000.  \n",
    "* How do these five features compare to the five features you discussed in **Question 6**?\n",
    "* If you were close to the same answer, how does this visualization confirm your thoughts? \n",
    "* If you were not close, why do you think these features are more relevant?"
   ]
  },
  {
   "cell_type": "markdown",
   "metadata": {},
   "source": [
    "**Answer:**\n",
    "\n",
    "I got 4 out of 5 columns right albeit not in correct order. The graph above shows that age matters the most in our dataset with gradient boosting classifier, I tried using other classifiers as well and it shows different feature set for different algorithm. It is interesting. I will have to play with different algorithm and different feature set to see how they affect the accuracy of the model. So for the model we are using, i.e. GradientBoostingClassifier, age seems to be the most important factor. I did not give much importanace to hours per week column, but it seems it also plays an important part in our model to make prediction. "
   ]
  },
  {
   "cell_type": "markdown",
   "metadata": {},
   "source": [
    "### Feature Selection\n",
    "How does a model perform if we only use a subset of all the available features in the data? With less features required to train, the expectation is that training and prediction time is much lower — at the cost of performance metrics. From the visualization above, we see that the top five most important features contribute more than half of the importance of **all** features present in the data. This hints that we can attempt to *reduce the feature space* and simplify the information required for the model to learn. The code cell below will use the same optimized model you found earlier, and train it on the same training set *with only the top five important features*. "
   ]
  },
  {
   "cell_type": "code",
   "execution_count": 15,
   "metadata": {},
   "outputs": [
    {
     "name": "stdout",
     "output_type": "stream",
     "text": [
      "Final Model trained on full data\n",
      "------\n",
      "Accuracy on testing data: 0.8718\n",
      "F-score on testing data: 0.7545\n",
      "\n",
      "Final Model trained on reduced data\n",
      "------\n",
      "Accuracy on testing data: 0.8425\n",
      "F-score on testing data: 0.6993\n"
     ]
    }
   ],
   "source": [
    "# Import functionality for cloning a model\n",
    "from sklearn.base import clone\n",
    "\n",
    "# Reduce the feature space\n",
    "X_train_reduced = X_train[X_train.columns.values[(np.argsort(importances)[::-1])[:5]]]\n",
    "X_test_reduced = X_test[X_test.columns.values[(np.argsort(importances)[::-1])[:5]]]\n",
    "\n",
    "# Train on the \"best\" model found from grid search earlier\n",
    "clf = (clone(best_clf)).fit(X_train_reduced, y_train)\n",
    "\n",
    "# Make new predictions\n",
    "reduced_predictions = clf.predict(X_test_reduced)\n",
    "\n",
    "# Report scores from the final model using both versions of data\n",
    "print(\"Final Model trained on full data\\n------\")\n",
    "print(\"Accuracy on testing data: {:.4f}\".format(accuracy_score(y_test, best_predictions)))\n",
    "print(\"F-score on testing data: {:.4f}\".format(fbeta_score(y_test, best_predictions, beta = 0.5)))\n",
    "print(\"\\nFinal Model trained on reduced data\\n------\")\n",
    "print(\"Accuracy on testing data: {:.4f}\".format(accuracy_score(y_test, reduced_predictions)))\n",
    "print(\"F-score on testing data: {:.4f}\".format(fbeta_score(y_test, reduced_predictions, beta = 0.5)))"
   ]
  },
  {
   "cell_type": "markdown",
   "metadata": {},
   "source": [
    "### Question 8 - Effects of Feature Selection\n",
    "\n",
    "* How does the final model's F-score and accuracy score on the reduced data using only five features compare to those same scores when all features are used?\n",
    "* If training time was a factor, would you consider using the reduced data as your training set?"
   ]
  },
  {
   "cell_type": "markdown",
   "metadata": {},
   "source": [
    "**Answer:**\n",
    "\n",
    "- The final model's F-score and accuracy decreased on the reduced data when only five features were used compare to when all the features were used. The model with all the feature set outperformed the model with reduced feature set. Maybe the reduced data model may get better with larger dataset.\n",
    "- If training time was a factor, then I would consider training on the reduced data. But then it depends on the problem I am trying to solve. If accuracy is very much important, I can't use this technique, but if not, then I can consider this option."
   ]
  },
  {
   "cell_type": "markdown",
   "metadata": {},
   "source": [
    "> **Note**: Once you have completed all of the code implementations and successfully answered each question above, you may finalize your work by exporting the iPython Notebook as an HTML document. You can do this by using the menu above and navigating to  \n",
    "**File -> Download as -> HTML (.html)**. Include the finished document along with this notebook as your submission."
   ]
  },
  {
   "cell_type": "markdown",
   "metadata": {},
   "source": [
    "## Before You Submit\n",
    "You will also need run the following in order to convert the Jupyter notebook into HTML, so that your submission will include both files."
   ]
  },
  {
   "cell_type": "code",
   "execution_count": 16,
   "metadata": {},
   "outputs": [
    {
     "data": {
      "text/plain": [
       "['[NbConvertApp] Converting notebook finding_donors.ipynb to html',\n",
       " '[NbConvertApp] Writing 482093 bytes to finding_donors.html']"
      ]
     },
     "execution_count": 16,
     "metadata": {},
     "output_type": "execute_result"
    }
   ],
   "source": [
    "!!jupyter nbconvert *.ipynb"
   ]
  },
  {
   "cell_type": "code",
   "execution_count": null,
   "metadata": {},
   "outputs": [],
   "source": []
  }
 ],
 "metadata": {
  "kernelspec": {
   "display_name": "Python 3",
   "language": "python",
   "name": "python3"
  },
  "language_info": {
   "codemirror_mode": {
    "name": "ipython",
    "version": 3
   },
   "file_extension": ".py",
   "mimetype": "text/x-python",
   "name": "python",
   "nbconvert_exporter": "python",
   "pygments_lexer": "ipython3",
   "version": "3.7.4"
  }
 },
 "nbformat": 4,
 "nbformat_minor": 1
}
